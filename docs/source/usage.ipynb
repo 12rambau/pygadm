{
 "cells": [
  {
   "attachments": {},
   "cell_type": "markdown",
   "metadata": {},
   "source": [
    "# Usage\n",
    "\n",
    "## Get items\n",
    "\n",
    "The PyGADM lib can be used to extract information from the GADM dataset as GeoPandas `GeoDataFrame`.\n",
    "\n",
    "### countries\n",
    "\n",
    "Using the `get_items` methods, you can access an administrative area using either its name or its GADM identification code. \n",
    "\n",
    "For exemple to extract the France geometry you can use the following code:"
   ]
  },
  {
   "cell_type": "code",
   "execution_count": null,
   "metadata": {},
   "outputs": [],
   "source": [
    "import pygadm \n",
    "from ipyleaflet import GeoJSON, Map, basemaps\n",
    "\n",
    "gdf = pygadm.get_items(name=\"France\")\n",
    "\n",
    "# display it in a map \n",
    "m = Map(basemap=basemaps.Esri.WorldImagery)\n",
    "style = {\"stroke\": True, \"color\": \"grey\", \"weight\": 2, \"opacity\": 1, \"fill\": True, \"fillColor\": \"grey\", \"fillOpacity\": 0.4}\n",
    "m.add(GeoJSON(data=gdf.__geo_interface__, style=style))\n",
    "m"
   ]
  },
  {
   "cell_type": "markdown",
   "metadata": {},
   "source": [
    "If you know the code of the area you try to use, you can use the GADM code instead of the name."
   ]
  },
  {
   "cell_type": "code",
   "execution_count": null,
   "metadata": {},
   "outputs": [],
   "source": [
    "import pygadm \n",
    "from ipyleaflet import GeoJSON, Map, basemaps\n",
    "\n",
    "gdf = pygadm.get_items(admin=\"FRA\")\n",
    "\n",
    " # display it in a map \n",
    "m = Map(basemap=basemaps.Esri.WorldImagery)\n",
    "style = {\"stroke\": True, \"color\": \"grey\", \"weight\": 2, \"opacity\": 1, \"fill\": True, \"fillColor\": \"grey\", \"fillOpacity\": 0.4}\n",
    "m.add(GeoJSON(data=gdf.__geo_interface__, style=style))\n",
    "m"
   ]
  },
  {
   "cell_type": "markdown",
   "metadata": {},
   "source": [
    "### smaller admin levels\n",
    "\n",
    "One is not bind to only request a country, any level can be accesed using both names and/or GADM code. "
   ]
  },
  {
   "cell_type": "code",
   "execution_count": null,
   "metadata": {},
   "outputs": [],
   "source": [
    "import pygadm \n",
    "from ipyleaflet import GeoJSON, Map, basemaps\n",
    "\n",
    "gdf = pygadm.get_items(name=\"Corse-du-Sud\")\n",
    "\n",
    "# display it in a map \n",
    "m = Map(basemap=basemaps.Esri.WorldImagery)\n",
    "style = {\"stroke\": True, \"color\": \"grey\", \"weight\": 2, \"opacity\": 1, \"fill\": True, \"fillColor\": \"grey\", \"fillOpacity\": 0.4}\n",
    "m.add(GeoJSON(data=gdf.__geo_interface__, style=style))\n",
    "m"
   ]
  },
  {
   "attachments": {},
   "cell_type": "markdown",
   "metadata": {},
   "source": [
    "```{warning} \n",
    "The names of countries are all unique but not the smaller administrative layer. If you request a small area using name, make sure it's the one you are looking for before running your workflow. If it's not the case, use the :code:`get_names` method to get the admin assosciated names.\n",
    "```"
   ]
  },
  {
   "attachments": {},
   "cell_type": "markdown",
   "metadata": {},
   "source": [
    "### content of an admin layer\n",
    "\n",
    "using the `content_level` option, one can require smaller administrative layer than the one setup in the name. For example when you request France, by setting up the `content_level` option to 2, the geodataframe will include all the department geometries."
   ]
  },
  {
   "cell_type": "code",
   "execution_count": null,
   "metadata": {},
   "outputs": [],
   "source": [
    "import pygadm \n",
    "from ipyleaflet import GeoJSON, Map, basemaps\n",
    "\n",
    "gdf = pygadm.get_items(admin=\"FRA\", content_level=2)\n",
    "\n",
    "# display it in a map \n",
    "m = Map(basemap=basemaps.Esri.WorldImagery)\n",
    "style = {\"stroke\": True, \"color\": \"grey\", \"weight\": 2, \"opacity\": 1, \"fill\": True, \"fillColor\": \"grey\", \"fillOpacity\": 0.4}\n",
    "m.add(GeoJSON(data=gdf.__geo_interface__, style=style))\n",
    "m"
   ]
  },
  {
   "cell_type": "markdown",
   "metadata": {},
   "source": [
    "## find names\n",
    "\n",
    "To get the available name and GADM code in a administrative layer you can use the `get_names` method with the same parameters. Use then these names in a `get_items` request to get the geometry.\n",
    "\n",
    "For example to the the name and codes of all the departments in France you can run: "
   ]
  },
  {
   "cell_type": "code",
   "execution_count": null,
   "metadata": {},
   "outputs": [],
   "source": [
    "import pygadm\n",
    "\n",
    "pygadm.get_names(admin=\"FRA\", content_level=2)"
   ]
  },
  {
   "attachments": {},
   "cell_type": "markdown",
   "metadata": {},
   "source": [
    "## Google Earth engine\n",
    "\n",
    "If you want to use this lib with GEE, install the \"earthengine-api\" package in your environment and then run the following code:"
   ]
  },
  {
   "cell_type": "code",
   "execution_count": null,
   "metadata": {},
   "outputs": [],
   "source": [
    "import pygadm\n",
    "import geemap\n",
    "import ee \n",
    "\n",
    "ee.Initialize()\n",
    "\n",
    "gdf = pygadm.get_items(admin=\"FRA\", content_level=2)\n",
    "fc = ee.FeatureCollection(gdf.__geo_interface__)\n",
    "\n",
    "# in this example we use geemap to display the geometry on the map\n",
    "m = geemap.Map()\n",
    "m.addLayer(fc, {\"color\": \"grey\"}, \"FRA\")\n",
    "m"
   ]
  },
  {
   "cell_type": "markdown",
   "metadata": {},
   "source": []
  }
 ],
 "metadata": {
  "kernelspec": {
   "display_name": "Python 3",
   "language": "python",
   "name": "python3"
  },
  "language_info": {
   "codemirror_mode": {
    "name": "ipython",
    "version": 3
   },
   "file_extension": ".py",
   "mimetype": "text/x-python",
   "name": "python",
   "nbconvert_exporter": "python",
   "pygments_lexer": "ipython3",
   "version": "3.8.3"
  },
  "vscode": {
   "interpreter": {
    "hash": "6e705c19bb34545a641de15492e04a9e3ccbd942b68c609c6e245de238b805b6"
   }
  }
 },
 "nbformat": 4,
 "nbformat_minor": 2
}
