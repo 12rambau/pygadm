{
 "cells": [
  {
   "cell_type": "code",
   "execution_count": null,
   "id": "43bbef74",
   "metadata": {},
   "outputs": [],
   "source": [
    "import pygadm\n",
    "\n",
    "gdf = pygadm.get_items(name=\"Singapore\", content_level=1)\n",
    "gdf.plot(cmap = \"viridis\")"
   ]
  }
 ],
 "metadata": {
  "kernelspec": {
   "display_name": "Python 3",
   "language": "python",
   "name": "python3"
  },
  "language_info": {
   "codemirror_mode": {
    "name": "ipython",
    "version": 3
   },
   "file_extension": ".py",
   "mimetype": "text/x-python",
   "name": "python",
   "nbconvert_exporter": "python",
   "pygments_lexer": "ipython3",
   "version": "3.8.3"
  }
 },
 "nbformat": 4,
 "nbformat_minor": 5
}
